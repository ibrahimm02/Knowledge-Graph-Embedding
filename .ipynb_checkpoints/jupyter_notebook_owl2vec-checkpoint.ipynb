{
 "cells": [
  {
   "cell_type": "markdown",
   "id": "75a6c5ab",
   "metadata": {},
   "source": [
    "## Running OWL2Vec*"
   ]
  },
  {
   "cell_type": "code",
   "execution_count": 2,
   "id": "2658935d",
   "metadata": {},
   "outputs": [
    {
     "ename": "AttributeError",
     "evalue": "module 'owl2vec_star.owl2vec_star' has no attribute 'extract_owl2vec_model'",
     "output_type": "error",
     "traceback": [
      "\u001b[0;31m---------------------------------------------------------------------------\u001b[0m",
      "\u001b[0;31mAttributeError\u001b[0m                            Traceback (most recent call last)",
      "\u001b[0;32m<ipython-input-2-df048fe91831>\u001b[0m in \u001b[0;36m<module>\u001b[0;34m\u001b[0m\n\u001b[1;32m      8\u001b[0m \u001b[0;31m# lit_doc\u001b[0m\u001b[0;34m\u001b[0m\u001b[0;34m\u001b[0m\u001b[0;34m\u001b[0m\u001b[0m\n\u001b[1;32m      9\u001b[0m \u001b[0;31m# mix_doc\u001b[0m\u001b[0;34m\u001b[0m\u001b[0;34m\u001b[0m\u001b[0;34m\u001b[0m\u001b[0m\n\u001b[0;32m---> 10\u001b[0;31m \u001b[0mgensim_model\u001b[0m \u001b[0;34m=\u001b[0m \u001b[0mowl2vec_star\u001b[0m\u001b[0;34m.\u001b[0m\u001b[0mextract_owl2vec_model\u001b[0m\u001b[0;34m(\u001b[0m\u001b[0;34m\"./case_studies/pizza/pizza.owl\"\u001b[0m\u001b[0;34m,\u001b[0m \u001b[0;34m\"./default.cfg\"\u001b[0m\u001b[0;34m,\u001b[0m \u001b[0;32mTrue\u001b[0m\u001b[0;34m,\u001b[0m \u001b[0;32mTrue\u001b[0m\u001b[0;34m,\u001b[0m \u001b[0;32mTrue\u001b[0m\u001b[0;34m)\u001b[0m\u001b[0;34m\u001b[0m\u001b[0;34m\u001b[0m\u001b[0m\n\u001b[0m\u001b[1;32m     11\u001b[0m \u001b[0;34m\u001b[0m\u001b[0m\n\u001b[1;32m     12\u001b[0m \u001b[0moutput_folder\u001b[0m\u001b[0;34m=\u001b[0m\u001b[0;34m\"./cache/output/\"\u001b[0m\u001b[0;34m\u001b[0m\u001b[0;34m\u001b[0m\u001b[0m\n",
      "\u001b[0;31mAttributeError\u001b[0m: module 'owl2vec_star.owl2vec_star' has no attribute 'extract_owl2vec_model'"
     ]
    }
   ],
   "source": [
    "from owl2vec_star import owl2vec_star\n",
    "\n",
    "\n",
    "#Parameters:\n",
    "# ontology_file\n",
    "# config_file\n",
    "# uri_doc\n",
    "# lit_doc\n",
    "# mix_doc\n",
    "gensim_model = owl2vec_star.extract_owl2vec_model(\"./case_studies/pizza/pizza.owl\", \"./default.cfg\", True, True, True)\n",
    "\n",
    "output_folder=\"./cache/output/\"\n",
    "\n",
    "#Gensim format\n",
    "gensim_model.save(output_folder+\"ontology.embeddings\")\n",
    "    #Txt format\n",
    "gensim_model.wv.save_word2vec_format(output_folder+\"ontology.embeddings.txt\", binary=False)\n"
   ]
  },
  {
   "cell_type": "markdown",
   "id": "69a78df2",
   "metadata": {},
   "source": [
    "## Loading embeddings and getting similarities"
   ]
  },
  {
   "cell_type": "code",
   "execution_count": 16,
   "id": "8fdbcf09",
   "metadata": {},
   "outputs": [
    {
     "name": "stderr",
     "output_type": "stream",
     "text": [
      "INFO: loading KeyedVectors object from ./cache/output/ontology.embeddings\n",
      "INFO: loading wv recursively from ./cache/output/ontology.embeddings.wv.* with mmap=r\n",
      "INFO: setting ignored attribute cum_table to None\n",
      "INFO: Word2Vec lifecycle event {'fname': './cache/output/ontology.embeddings', 'datetime': '2022-04-03T18:04:36.338347', 'gensim': '4.1.2', 'python': '3.8.10 (default, Mar 15 2022, 12:22:08) \\n[GCC 9.4.0]', 'platform': 'Linux-5.4.0-107-generic-x86_64-with-glibc2.29', 'event': 'loaded'}\n"
     ]
    },
    {
     "name": "stdout",
     "output_type": "stream",
     "text": [
      "Vector for 'pizza'\n",
      "[ 0.0743243   0.19293383  0.30593383  0.3958468   0.05247805 -0.49616787\n",
      " -0.15440564 -0.08259189 -0.3909355  -0.28168628 -0.19477333  0.04056818\n",
      " -0.00485978 -0.07915749  0.00390384 -0.1433732   0.03623685 -0.43204474\n",
      " -0.4556869   0.24026614 -0.03671354 -0.10615446  0.30385765  0.48483336\n",
      "  0.3556914  -0.29235455  0.36101553  0.7010289  -0.27350602 -0.05840959\n",
      " -0.6465348  -0.13692051 -0.50201017  0.0198493   0.29761103 -0.00551832\n",
      "  0.16487654  0.00621    -0.47335416 -0.04636294  0.40056136 -0.00120556\n",
      " -0.23578557 -0.08001129  0.43851233 -0.10489195  0.13952565  0.7221025\n",
      "  0.5165394   0.02995601  0.6822823  -0.15879251 -0.09926439 -0.3754523\n",
      "  0.4157486  -0.12630604  0.05572855  0.24061187  0.3542874   0.04792669\n",
      "  0.23201172  0.2330062  -0.14037839 -0.01443206  0.28566542 -0.05792437\n",
      "  0.0668584  -0.2510384  -0.26868662  0.06789784  0.33012024 -0.34459594\n",
      " -0.43841365  0.13969836  0.22876818  0.05193956  0.2464987  -0.54647446\n",
      "  0.34375235 -0.36977416 -0.28856048  0.06232348 -0.53837043 -0.02680438\n",
      "  0.25243288  0.17937827 -0.8045986  -0.06188817  0.509764    0.0368312\n",
      "  0.234287    0.64654636  0.0503041   0.35679442 -0.04908825 -0.05642657\n",
      "  0.14914584 -0.22034179  0.15669699 -0.0416    ]\n",
      "0.48439866\n",
      "0.7834609\n",
      "[('margherita pizza', 0.8045516014099121), ('rosa pizza', 0.7795759439468384), ('caprina pizza', 0.7782953977584839), ('mushroom pizza', 0.7717488408088684), ('parmese pizza', 0.7647582292556763), ('siciliana pizza', 0.764582097530365), ('american pizza', 0.7628180384635925), ('sundried tomato', 0.7533938884735107), ('fiorentina pizza', 0.7502332329750061), ('napoletana pizza', 0.7443881630897522)]\n",
      "[('unclosedpizza', 0.9085118174552917), ('margherita pizza', 0.9009125232696533), ('http://www.co-ode.org/ontologies/pizza/pizza.owl#Margherita', 0.8917295932769775), ('http://www.co-ode.org/ontologies/pizza/pizza.owl#Rosa', 0.8862067461013794), ('unclosed', 0.8849341869354248), ('mushroom pizza', 0.8748230934143066), ('http://www.co-ode.org/ontologies/pizza/pizza.owl#American', 0.8698841333389282), ('http://www.co-ode.org/ontologies/pizza/pizza.owl#UnclosedPizza', 0.868944525718689), ('rosa', 0.8688411712646484), ('rosa pizza', 0.8649780750274658)]\n"
     ]
    }
   ],
   "source": [
    "from gensim.models import KeyedVectors\n",
    "\n",
    "#Embedding vectors generated above\n",
    "model = KeyedVectors.load(\"./cache/output/ontology.embeddings\", mmap='r')\n",
    "wv = model.wv\n",
    "\n",
    "vector = wv['pizza']  # Get numpy vector of a word\n",
    "print(\"Vector for 'pizza'\")\n",
    "print(vector)\n",
    "\n",
    "#cosine similarity\n",
    "similarity = wv.similarity('pizza', 'http://www.co-ode.org/ontologies/pizza/pizza.owl#Pizza')\n",
    "print(similarity)\n",
    "\n",
    "similarity = wv.similarity('http://www.co-ode.org/ontologies/pizza/pizza.owl#Margherita', 'margherita')\n",
    "print(similarity)\n",
    "\n",
    "\n",
    "#Most similar cosine similarity\n",
    "result = wv.most_similar(positive=['margherita', 'pizza'])\n",
    "print(result)\n",
    "\n",
    "#Most similar entities: cosmul\n",
    "result = wv.most_similar_cosmul(positive=['margherita'])\n",
    "print(result)"
   ]
  },
  {
   "cell_type": "code",
   "execution_count": null,
   "id": "68cdbe3a",
   "metadata": {},
   "outputs": [],
   "source": []
  }
 ],
 "metadata": {
  "kernelspec": {
   "display_name": "Python 3",
   "language": "python",
   "name": "python3"
  },
  "language_info": {
   "codemirror_mode": {
    "name": "ipython",
    "version": 3
   },
   "file_extension": ".py",
   "mimetype": "text/x-python",
   "name": "python",
   "nbconvert_exporter": "python",
   "pygments_lexer": "ipython3",
   "version": "3.8.10"
  }
 },
 "nbformat": 4,
 "nbformat_minor": 5
}
