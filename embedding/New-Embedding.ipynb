{
 "cells": [
  {
   "cell_type": "code",
   "execution_count": 4,
   "metadata": {},
   "outputs": [
    {
     "name": "stdout",
     "output_type": "stream",
     "text": [
      "Vector for 'Ingredient'\n",
      "[ 0.01980023  0.01451168  0.08666766 -0.14170416 -0.08171754 -0.14141418\n",
      " -0.0102597   0.0629087  -0.01252662  0.01037492 -0.08674308  0.12358321\n",
      " -0.0665497  -0.04326784 -0.04223857 -0.08591664  0.03864137 -0.07542007\n",
      " -0.07875782 -0.05606891  0.08889064  0.02800658  0.09913574 -0.19264053\n",
      "  0.1844345   0.00486019 -0.03358822  0.00822885 -0.08315603 -0.08096485\n",
      " -0.01682816 -0.08377265  0.07820658  0.22402005 -0.23890094 -0.06177161\n",
      "  0.0858468   0.09581827 -0.07367517 -0.01549373  0.0530446   0.07726607\n",
      "  0.13415383  0.0303308   0.01064334 -0.0925434  -0.03962507 -0.18085337\n",
      "  0.11300619 -0.13102236  0.06521127  0.00864904  0.20726192 -0.2746451\n",
      " -0.14285557  0.04225509  0.1135768   0.00301481  0.136043    0.14373851\n",
      " -0.2302043  -0.15249331  0.25885117 -0.07512704 -0.03634385  0.00709072\n",
      "  0.11127684 -0.12646371 -0.18484318 -0.03948899  0.06111761  0.07004321\n",
      "  0.02147337 -0.19709001  0.06121315 -0.03201757  0.11912918  0.13335998\n",
      " -0.25329092  0.04781719  0.01321908  0.00297697  0.01854405  0.17212504\n",
      "  0.03156548  0.28084737 -0.11366148 -0.13442041  0.06183603  0.10633887\n",
      "  0.01746084  0.21932751  0.05607191 -0.23339288 -0.22352153 -0.12695651\n",
      " -0.09195608  0.0587051   0.06529074  0.03389246]\n",
      "0.45560977\n",
      "0.3534739\n",
      "Most similar cosine similarity\n",
      "[('red pepper', 0.9406557083129883), ('pizza supreme', 0.9389310479164124), ('olive oil', 0.9374057054519653), ('boursin', 0.9355436563491821), ('black olives', 0.9344109296798706), ('jalapeno pepper', 0.9321879744529724), ('yellow pepper', 0.931603193283081), ('green pepper', 0.930315375328064), ('beans pizza', 0.9293375015258789), ('feta pizza', 0.9276289939880371)]\n",
      "Most similar entities: cosmul\n",
      "[('63', 0.9681549668312073), ('jam', 0.9668811559677124), ('slivered', 0.9595670104026794), ('boursin', 0.9567420482635498), ('olive', 0.9428417682647705), ('red', 0.9417815804481506), ('capers', 0.9403372406959534), ('pepper', 0.9385350346565247), ('sausage', 0.9383911490440369), ('iginalroundpizzatopped', 0.9340878129005432)]\n"
     ]
    }
   ],
   "source": [
    "from gensim.models import KeyedVectors\n",
    "#Embedding vectors generated above\n",
    "model = KeyedVectors.load(\"./cache/outputontology.embeddings\", mmap='r')\n",
    "wv = model.wv\n",
    "\n",
    "vector = wv['Ingredient']  # Get numpy vector of a word\n",
    "print(\"Vector for 'Ingredient'\")\n",
    "print(vector)\n",
    "\n",
    "#cosine similarity\n",
    "similarity = wv.similarity('Ingredient', 'http://www.semanticweb.org/in3067-inm713/restaurants#Ingredient')\n",
    "print(similarity)\n",
    "\n",
    "similarity = wv.similarity('onion', 'http://www.semanticweb.org/in3067-inm713/restaurants#MenuItem')\n",
    "print(similarity)\n",
    "\n",
    "print(\"Most similar cosine similarity\")\n",
    "result = wv.most_similar(positive=['onion', 'Ingredient'])\n",
    "print(result)\n",
    "\n",
    "print(\"Most similar entities: cosmul\")\n",
    "result = wv.most_similar_cosmul(positive=['onion'])\n",
    "print(result)"
   ]
  },
  {
   "cell_type": "code",
   "execution_count": 5,
   "metadata": {},
   "outputs": [
    {
     "name": "stdout",
     "output_type": "stream",
     "text": [
      "Vector for 'pizza'\n",
      "[-0.13177277 -0.27074578 -0.1094718  -0.3606545  -0.22801559 -0.5603803\n",
      "  0.25852886  0.11176527  0.46208143 -0.16631247 -0.05606372  0.17708719\n",
      "  0.8112671  -0.4519827   0.1526278  -0.5646852   0.22565483  0.51639265\n",
      " -0.2217259  -0.1766437   0.27361122  0.54489756  0.00284859 -0.49127892\n",
      "  0.8226589   0.7857206  -0.5320934  -0.811       0.51993304  0.1981851\n",
      "  0.12551    -0.19434969 -0.1682481   0.42649013 -0.72279865  0.16534442\n",
      " -0.02401672 -0.34462866 -0.32076567  0.03308639  0.17293563  0.340014\n",
      " -0.33937675  0.5899904   0.9487975  -0.49067184  0.21416949 -0.68449384\n",
      "  0.4912767  -0.30405506  0.04785165  0.02187727  0.24503283 -0.30715957\n",
      " -0.6504743   0.26417986  0.11642654  0.25574493  0.5971347   0.769033\n",
      " -0.86235905 -1.1012452   0.9346997   0.33913493  0.19331726  0.04037588\n",
      "  0.6894166  -0.2088573   0.38392976 -0.21596366  0.04881816  0.00759458\n",
      " -0.00192335  0.04096283 -0.32254818 -0.03463712 -0.43197334 -0.09235225\n",
      " -0.79174465  0.2629595  -0.09250139 -0.3664628  -0.6104133   0.3652812\n",
      " -0.30528188  0.49111542 -0.12471688 -0.35587588  0.64698464  0.04049358\n",
      "  0.0264559   0.08588714  0.28344586 -0.63805306  0.0574097   0.6009646\n",
      "  0.61364466  0.23797299 -0.724014   -0.16573483]\n",
      "0.2120407\n",
      "0.34046793\n",
      "Most similar cosine similarity\n",
      "[('466', 0.813896894454956), ('500', 0.7887473702430725), ('273', 0.7767765522003174), ('garlic', 0.7595365643501282), ('342', 0.754159688949585), ('bomba', 0.7539907693862915), ('8corner', 0.7516393661499023), ('69', 0.7511134743690491), ('92', 0.7502450942993164), ('bruha', 0.7493125796318054)]\n",
      "Most similar entities: cosmul\n",
      "[('273', 0.8445987701416016), ('500', 0.8389557003974915), ('466', 0.8321015238761902), ('dough', 0.8289645910263062), ('vegan', 0.8234308362007141), ('marinara', 0.8202939033508301), ('wheat', 0.8111900687217712), ('306', 0.8082353472709656), ('caprese', 0.8046453595161438), ('honey', 0.8038637042045593)]\n"
     ]
    }
   ],
   "source": [
    "\n",
    "#Embedding vectors generated above\n",
    "model = KeyedVectors.load(\"./cache/outputontology.embeddings\", mmap='r')\n",
    "wv = model.wv\n",
    "\n",
    "vector = wv['pizza']  # Get numpy vector of a word\n",
    "print(\"Vector for 'pizza'\")\n",
    "print(vector)\n",
    "\n",
    "#cosine similarity\n",
    "similarity = wv.similarity('pizza', 'http://www.semanticweb.org/in3067-inm713/restaurants#Pizza')\n",
    "print(similarity)\n",
    "\n",
    "similarity = wv.similarity('margherita', 'http://www.semanticweb.org/in3067-inm713/restaurants#MenuItem')\n",
    "print(similarity)\n",
    "\n",
    "\n",
    "print(\"Most similar cosine similarity\")\n",
    "result = wv.most_similar(positive=['margherita', 'pizza'])\n",
    "print(result)\n",
    "\n",
    "print(\"Most similar entities: cosmul\")\n",
    "result = wv.most_similar_cosmul(positive=['margherita'])\n",
    "print(result)"
   ]
  },
  {
   "cell_type": "code",
   "execution_count": 6,
   "metadata": {},
   "outputs": [
    {
     "name": "stdout",
     "output_type": "stream",
     "text": [
      "Vector for 'pizza'\n",
      "[-0.13177277 -0.27074578 -0.1094718  -0.3606545  -0.22801559 -0.5603803\n",
      "  0.25852886  0.11176527  0.46208143 -0.16631247 -0.05606372  0.17708719\n",
      "  0.8112671  -0.4519827   0.1526278  -0.5646852   0.22565483  0.51639265\n",
      " -0.2217259  -0.1766437   0.27361122  0.54489756  0.00284859 -0.49127892\n",
      "  0.8226589   0.7857206  -0.5320934  -0.811       0.51993304  0.1981851\n",
      "  0.12551    -0.19434969 -0.1682481   0.42649013 -0.72279865  0.16534442\n",
      " -0.02401672 -0.34462866 -0.32076567  0.03308639  0.17293563  0.340014\n",
      " -0.33937675  0.5899904   0.9487975  -0.49067184  0.21416949 -0.68449384\n",
      "  0.4912767  -0.30405506  0.04785165  0.02187727  0.24503283 -0.30715957\n",
      " -0.6504743   0.26417986  0.11642654  0.25574493  0.5971347   0.769033\n",
      " -0.86235905 -1.1012452   0.9346997   0.33913493  0.19331726  0.04037588\n",
      "  0.6894166  -0.2088573   0.38392976 -0.21596366  0.04881816  0.00759458\n",
      " -0.00192335  0.04096283 -0.32254818 -0.03463712 -0.43197334 -0.09235225\n",
      " -0.79174465  0.2629595  -0.09250139 -0.3664628  -0.6104133   0.3652812\n",
      " -0.30528188  0.49111542 -0.12471688 -0.35587588  0.64698464  0.04049358\n",
      "  0.0264559   0.08588714  0.28344586 -0.63805306  0.0574097   0.6009646\n",
      "  0.61364466  0.23797299 -0.724014   -0.16573483]\n",
      "0.29861692\n",
      "0.41220567\n",
      "[('ranch', 0.8433973789215088), ('pizzatm', 0.8398921489715576), ('216', 0.83854079246521), ('217', 0.8358902931213379), ('parmesan', 0.8165454268455505), ('441', 0.8152145147323608), ('lover', 0.8133682012557983), ('barbecue', 0.8117418885231018), ('408', 0.8097494840621948), ('eaters', 0.808430552482605)]\n",
      "[('parmigiana', 0.8867853283882141), ('wing', 0.883034884929657), ('189', 0.879324197769165), ('241', 0.8788869976997375), ('348', 0.8781090974807739), ('heart', 0.8775187134742737), ('arthichoke', 0.8766698837280273), ('79', 0.8736732602119446), ('493', 0.8735725283622742), ('231', 0.8709608912467957)]\n"
     ]
    }
   ],
   "source": [
    "\n",
    "#Embedding vectors generated above\n",
    "model = KeyedVectors.load(\"./cache/outputontology.embeddings\", mmap='r')\n",
    "wv = model.wv\n",
    "\n",
    "vector = wv['pizza']  # Get numpy vector of a word\n",
    "print(\"Vector for 'pizza'\")\n",
    "print(vector)\n",
    "\n",
    "#cosine similarity\n",
    "similarity = wv.similarity('meat', 'http://www.semanticweb.org/in3067-inm713/restaurants#Meat')\n",
    "print(similarity)\n",
    "\n",
    "similarity = wv.similarity('chicken','http://www.semanticweb.org/in3067-inm713/restaurants#Chicken')\n",
    "print(similarity)\n",
    "\n",
    "\n",
    "#Most similar cosine similarity\n",
    "result = wv.most_similar(positive=['meat', 'chicken'])\n",
    "print(result)\n",
    "\n",
    "#Most similar entities: cosmul\n",
    "result = wv.most_similar_cosmul(positive=['chicken'])\n",
    "print(result)"
   ]
  },
  {
   "cell_type": "code",
   "execution_count": 43,
   "metadata": {},
   "outputs": [
    {
     "name": "stdout",
     "output_type": "stream",
     "text": [
      "<class 'numpy.ndarray'>\n"
     ]
    },
    {
     "data": {
      "image/png": "[encoded data removed]",
      "text/plain": [
       "<Figure size 432x288 with 1 Axes>"
      ]
     },
     "metadata": {
      "needs_background": "light"
     },
     "output_type": "display_data"
    },
    {
     "name": "stdout",
     "output_type": "stream",
     "text": [
      "<class 'numpy.ndarray'>\n"
     ]
    },
    {
     "data": {
      "image/png": "[encoded data removed]",
      "text/plain": [
       "<Figure size 432x288 with 1 Axes>"
      ]
     },
     "metadata": {
      "needs_background": "light"
     },
     "output_type": "display_data"
    }
   ],
   "source": [
    "#Parts of the code are adapted from https://www.askpython.com/python/examples/k-means-clustering-from-scratch\n",
    "\n",
    "import numpy as np\n",
    "from scipy.spatial.distance import cdist \n",
    "from sklearn.datasets import load_digits\n",
    "from sklearn.decomposition import PCA\n",
    "from sklearn.cluster import KMeans\n",
    "import matplotlib.pyplot as plt\n",
    " \n",
    "model = KeyedVectors.load(\"./cache/outputontology.embeddings\", mmap='r')\n",
    "wv = model.wv\n",
    "\n",
    "def data(a,b,c):\n",
    "\n",
    "    data = wv[a,b,c]\n",
    "\n",
    "    print(type(data))\n",
    "    data = data.flatten()\n",
    "    data = data.reshape(-1,3)\n",
    "    # print(a)   \n",
    "    return data\n",
    "\n",
    "\n",
    "#Defining our function \n",
    "def kmeans(x,k, no_of_iterations):\n",
    "    idx = np.random.choice(len(x), k, replace=False)\n",
    "    #Randomly choosing Centroids \n",
    "    centroids = x[idx, :] #Step 1\n",
    "     \n",
    "    #finding the distance between centroids and all the data points\n",
    "    distances = cdist(x, centroids ,'euclidean') #Step 2\n",
    "     \n",
    "    #Centroid with the minimum Distance\n",
    "    points = np.array([np.argmin(i) for i in distances]) #Step 3\n",
    "     \n",
    "    #Repeating the above steps for a defined number of iterations\n",
    "    #Step 4\n",
    "    for _ in range(no_of_iterations): \n",
    "        centroids = []\n",
    "        for idx in range(k):\n",
    "            #Updating Centroids by taking mean of Cluster it belongs to\n",
    "            temp_cent = x[points==idx].mean(axis=0) \n",
    "            centroids.append(temp_cent)\n",
    " \n",
    "        centroids = np.vstack(centroids) #Updated Centroids \n",
    "         \n",
    "        distances = cdist(x, centroids ,'euclidean')\n",
    "        points = np.array([np.argmin(i) for i in distances])\n",
    "         \n",
    "    return points \n",
    " \n",
    "\n",
    " \n",
    "#Load Data\n",
    "\n",
    "def Load_Data(dt):\n",
    "    data = dt.data\n",
    "    pca = PCA(2)\n",
    "\n",
    "    #Transform the data\n",
    "    df = pca.fit_transform(data)\n",
    "\n",
    "    #Applying our function\n",
    "    label = kmeans(df,3,1000)\n",
    "\n",
    "    #Visualize the results\n",
    "\n",
    "    u_labels = np.unique(label)\n",
    "    for i in u_labels:\n",
    "        plt.scatter(df[label == i , 0] , df[label == i , 1] , label = i)\n",
    "    plt.legend()\n",
    "    plt.show()\n",
    "\n",
    "    \n",
    "#Calling the functions \n",
    "dt = data('Pizza', 'Meatballs', 'Restaurant')\n",
    "\n",
    "Load_Data(dt)\n",
    "\n",
    "\n",
    "\n",
    "dt = data('Pizza', 'Restaurant', 'Location')\n",
    "\n",
    "Load_Data(dt)\n",
    "\n",
    "dt = data('')\n"
   ]
  },
  {
   "cell_type": "code",
   "execution_count": null,
   "metadata": {},
   "outputs": [],
   "source": []
  }
 ],
 "metadata": {
  "kernelspec": {
   "display_name": "Python 3",
   "language": "python",
   "name": "python3"
  },
  "language_info": {
   "codemirror_mode": {
    "name": "ipython",
    "version": 3
   },
   "file_extension": ".py",
   "mimetype": "text/x-python",
   "name": "python",
   "nbconvert_exporter": "python",
   "pygments_lexer": "ipython3",
   "version": "3.8.10"
  }
 },
 "nbformat": 4,
 "nbformat_minor": 4
}
